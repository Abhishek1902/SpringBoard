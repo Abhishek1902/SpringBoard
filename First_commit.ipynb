{
 "cells": [
  {
   "cell_type": "markdown",
   "id": "satisfactory-neighbor",
   "metadata": {},
   "source": [
    "Practise Commit\n"
   ]
  },
  {
   "cell_type": "code",
   "execution_count": 1,
   "id": "outer-mercury",
   "metadata": {},
   "outputs": [
    {
     "data": {
      "text/plain": [
       "4"
      ]
     },
     "execution_count": 1,
     "metadata": {},
     "output_type": "execute_result"
    }
   ],
   "source": [
    "2+2\n"
   ]
  }
 ],
 "metadata": {
  "kernelspec": {
   "display_name": "Python 3",
   "language": "python",
   "name": "python3"
  },
  "language_info": {
   "codemirror_mode": {
    "name": "ipython",
    "version": 3
   },
   "file_extension": ".py",
   "mimetype": "text/x-python",
   "name": "python",
   "nbconvert_exporter": "python",
   "pygments_lexer": "ipython3",
   "version": "3.8.5"
  }
 },
 "nbformat": 4,
 "nbformat_minor": 5
}
